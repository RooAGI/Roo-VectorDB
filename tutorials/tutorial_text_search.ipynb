{
 "cells": [
  {
   "cell_type": "markdown",
   "metadata": {},
   "source": [
    "# Full Text Search Tutorial"
   ]
  },
  {
   "cell_type": "markdown",
   "metadata": {},
   "source": [
    "### Ensure Roo-VectorDB has been installed"
   ]
  },
  {
   "cell_type": "markdown",
   "metadata": {},
   "source": [
    "**Please verify the installation of Roo-VectorDB before running any tutorials. Refer main README file Installation section to learn how to install Roo-VectorDB.**"
   ]
  },
  {
   "cell_type": "markdown",
   "metadata": {},
   "source": [
    "### Download data files"
   ]
  },
  {
   "cell_type": "markdown",
   "metadata": {},
   "source": [
    "In this tutorial, we use the [Amazon-QA](https://www.kaggle.com/datasets/praneshmukhopadhyay/amazon-questionanswer-dataset) dataset. Each entry in the dataset consists of a question followed by one or more corresponding answers (user reviews). We process the data by enumerating each answer and pairing it with its associated question to form distinct question-answer pairs.\n",
    "We then create a table with three metadata columns: `question`, `answer`, and a concatenated `question+answer` field. Embeddings are computed from this combined text, allowing vector search to capture semantic similarity across both the question and its answer.\n",
    "\n",
    "The embedding vectors are generated on-the-fly using a [Sentence Transformer](https://sbert.net/) model. To enable this, the model file will be downloaded beforehand.\n",
    "\n",
    "1. Amazon-QA text data jsonl file: [amazon-qa.jsonl](https://rooagi8-my.sharepoint.com/:u:/g/personal/chaoma_rooagi_com/ETPyi_peQj9Kg_v5RkQF7OwBvS6a2Q1on0gAJV48uPh9Rg?e=QdGapa) (678MB)\n",
    "<!-- 1. [Optional] Sentence Transformer model file: [sent_embed_all-mpnet-base-v2.pickle](https://rooagi8-my.sharepoint.com/:u:/g/personal/chaoma_rooagi_com/EV1p4jOKJ8lEmBv-zhogEosB3XgCAql8WNIGdAZ5JwxlWQ?e=WvjiTb) (418MB) -->\n",
    "\n",
    "Please verify the file size after downloading to ensure the download completed successfully and the file is not corrupted."
   ]
  },
  {
   "cell_type": "markdown",
   "metadata": {},
   "source": [
    "### Setup"
   ]
  },
  {
   "cell_type": "code",
   "execution_count": 9,
   "metadata": {},
   "outputs": [],
   "source": [
    "# Set postgres login info here\n",
    "PG_USERNAME = <YOUR-USER-NAME> # for example: 'ann'\n",
    "PG_DBNAME = <YOUR-DBNAME> # for example: 'ann'\n",
    "PG_HOST = <YOUR-HOST> # for example: 'localhost' \n",
    "PG_PORT = <YOUR-PORT> # for example: 58432\n",
    "PG_PSWORD = <YOUR-USER-PASSWORD>\n",
    "\n",
    "# Set path of sentence embedding model file\n",
    "SENT_EMBED_MODEL_PATH = \"sent_embed_all-mpnet-base-v2.pickle\" \n",
    "\n",
    "# Set path of demo data file\n",
    "embedding_info = (\n",
    "    \"amazonqa1m_dim768\", # table name\n",
    "    768,                 # embedding dimension \n",
    "    \"amazon-qa.jsonl\" # data file\n",
    ")"
   ]
  },
  {
   "cell_type": "markdown",
   "metadata": {},
   "source": [
    "### Load Text Embedding Model"
   ]
  },
  {
   "cell_type": "code",
   "execution_count": 10,
   "metadata": {},
   "outputs": [],
   "source": [
    "import sentence_transformers\n",
    "import pickle\n",
    "import os\n",
    "\n",
    "def save_mode(model, fn=SENT_EMBED_MODEL_PATH):\n",
    "    with open(fn, 'wb') as fp:\n",
    "        pickle.dump(model, fp)\n",
    "\n",
    "class MySentenceEmbeddingModel:\n",
    "\n",
    "    def __init__(self):\n",
    "        self.model = self.load_if_exist()\n",
    "\n",
    "    def compute_embedding(self, text_batch):\n",
    "        return self.model.encode(text_batch)\n",
    "\n",
    "    def load_if_exist(self, fn=SENT_EMBED_MODEL_PATH):\n",
    "        if os.path.exists(fn):\n",
    "            with open(fn, 'rb') as fp:\n",
    "                model = pickle.load(fp)\n",
    "                print(\"model loaded from \", fn)\n",
    "                return model\n",
    "        else:\n",
    "            print(\"downloading model\")\n",
    "            model = sentence_transformers.SentenceTransformer(\"all-mpnet-base-v2\")\n",
    "            save_mode(model, fn=SENT_EMBED_MODEL_PATH)\n",
    "            return model"
   ]
  },
  {
   "cell_type": "markdown",
   "metadata": {},
   "source": [
    "### Prepare demo data"
   ]
  },
  {
   "cell_type": "code",
   "execution_count": 11,
   "metadata": {},
   "outputs": [],
   "source": [
    "import sys\n",
    "sys.path.append('../python')\n",
    "import json\n",
    "import psycopg\n",
    "import roovector.psycopg as roovec_psycopg\n",
    "\n",
    "class AmazonQuestionAnswerDemo(object):\n",
    "\n",
    "    def __init__(self, tb_name, dim, data_fn):\n",
    "        self.pg_conn = self.make_connection()\n",
    "        self.cur = self.pg_conn.cursor()\n",
    "        self.table_name = tb_name\n",
    "        self.dimension = dim\n",
    "        self.n_rows = 0\n",
    "        self.data_fn = data_fn\n",
    "        self.sentemb_model = MySentenceEmbeddingModel()\n",
    "\n",
    "    def make_connection(self):\n",
    "        conn = psycopg.connect(user=PG_USERNAME, dbname=PG_DBNAME, host=PG_HOST, port=PG_PORT, password=PG_PSWORD, autocommit=True)\n",
    "        roovec_psycopg.register_roovector(conn)\n",
    "        return conn\n",
    "\n",
    "    def prepare_table(self, copy_data=True):\n",
    "        self.cur.execute(\"DROP TABLE IF EXISTS %s\" % self.table_name)\n",
    "        self.cur.execute(\n",
    "            \"CREATE TABLE %s (id int, question varchar, answer varchar, qacombine varchar, embedding roovector(%d))\" % (self.table_name, self.dimension))\n",
    "        storage_fmt = \"PLAIN\"\n",
    "        if self.dimension > 2000:\n",
    "            storage_fmt = \"EXTENDED\"\n",
    "        self.cur.execute(\"ALTER TABLE %s ALTER COLUMN embedding SET STORAGE %s\" % (self.table_name, storage_fmt))\n",
    "\n",
    "        if copy_data:\n",
    "            print(\"copying data...\")\n",
    "            with self.cur.copy(f\"COPY {self.table_name} (id, question, answer, qacombine, embedding) FROM STDIN WITH (FORMAT BINARY)\") as copy:\n",
    "                copy.set_types([\"int4\", \"varchar\", \"varchar\", \"varchar\", \"roovector\"])\n",
    "\n",
    "                cnt = 0\n",
    "                lncnt = 0\n",
    "                batch_size = 1000\n",
    "                batch_tuples = []\n",
    "                batch_texts = []\n",
    "                with open(self.data_fn, 'r') as f:\n",
    "                    for line in f:\n",
    "                        try:\n",
    "                            json_obj = json.loads(line)\n",
    "                            question = json_obj['query']\n",
    "                            answers = json_obj['pos']\n",
    "                            for ans in answers:\n",
    "                                qatogether = question + \" \" + ans\n",
    "                                batch_tuples.append((cnt, question, ans, qatogether))\n",
    "                                batch_texts.append(qatogether)\n",
    "                                cnt += 1\n",
    "\n",
    "                                if len(batch_texts) >= batch_size:\n",
    "                                    batch_embedding = self.sentemb_model.compute_embedding(batch_texts)\n",
    "                                    print(\"batch =\", cnt)\n",
    "                                    for j in range(0, len(batch_texts)):\n",
    "                                        copy.write_row((batch_tuples[j][0], batch_tuples[j][1], batch_tuples[j][2], batch_tuples[j][3], batch_embedding[j].tolist()))\n",
    "                                    batch_texts.clear()\n",
    "                                    batch_tuples.clear()\n",
    "\n",
    "                            lncnt += 1\n",
    "                            if lncnt > 10000:\n",
    "                                break\n",
    "                        except json.JSONDecodeError as e:\n",
    "                            print(f\"Error decoding JSON on line: {line.strip()} - {e}\")\n",
    "\n",
    "                    self.n_rows = cnt\n",
    "                print(\"done writing table!\")\n",
    "\n",
    "    def create_index_ivfflat(self, nlists, nprobes, force_use_index=True):\n",
    "        print(\"creating index...\")\n",
    "        index_name = self.table_name + \"_demo_index\"\n",
    "        self.cur.execute(\"DROP INDEX IF EXISTS %s\" % index_name)\n",
    "        self.cur.execute(\n",
    "            \"CREATE INDEX %s ON %s USING roo_ivfflat (embedding roovector_cosine_ops) WITH (lists = %d)\" % (\n",
    "                index_name, self.table_name, nlists))\n",
    "        self.cur.execute(\"SET roo_ivfflat.probes = %d\" % nprobes)\n",
    "        print(\"done index creation!\")\n",
    "        if force_use_index:\n",
    "            self.cur.execute(\"SET enable_seqscan=false\")\n",
    "\n",
    "    def query(self, query_question, k):\n",
    "        query_vec = self.sentemb_model.compute_embedding([query_question])[0].tolist()\n",
    "        query_stm = \"SELECT id, question, answer, embedding FROM %s ORDER BY embedding <=> '%s' LIMIT %s\"\n",
    "        self.cur.execute(query_stm % (self.table_name, str(query_vec), k), binary=True, prepare=True)\n",
    "        return self.cur.fetchall()\n",
    "\n",
    "\n",
    "#Demo_amazonqa1m_dim768 = AmazonQuestionAnswerDemo(\"amazonqa1m_dim768\", 768, \"/data/qa_data/amazon-qa.jsonl\")"
   ]
  },
  {
   "cell_type": "markdown",
   "metadata": {},
   "source": [
    "### Choose the text searcher demo you want"
   ]
  },
  {
   "cell_type": "code",
   "execution_count": 13,
   "metadata": {},
   "outputs": [
    {
     "name": "stdout",
     "output_type": "stream",
     "text": [
      "downloading model\n"
     ]
    }
   ],
   "source": [
    "\"\"\"\n",
    "So far, candidates are:\n",
    " - Demo_amazonqa1m_dim768\n",
    "\"\"\"\n",
    "demo = AmazonQuestionAnswerDemo(embedding_info[0],\n",
    "                                embedding_info[1],\n",
    "                                embedding_info[2])"
   ]
  },
  {
   "cell_type": "markdown",
   "metadata": {},
   "source": [
    "### Create table and index"
   ]
  },
  {
   "cell_type": "markdown",
   "metadata": {},
   "source": [
    "(This step may take some time)"
   ]
  },
  {
   "cell_type": "code",
   "execution_count": 14,
   "metadata": {},
   "outputs": [
    {
     "name": "stdout",
     "output_type": "stream",
     "text": [
      "copying data...\n",
      "batch = 4096\n",
      "batch = 8192\n",
      "batch = 12288\n",
      "batch = 16384\n",
      "batch = 20480\n",
      "done writing table!\n",
      "Total number of rows: 22652\n"
     ]
    }
   ],
   "source": [
    "demo.prepare_table()\n",
    "\n",
    "print(\"Total number of rows:\", demo.n_rows)"
   ]
  },
  {
   "cell_type": "markdown",
   "metadata": {},
   "source": [
    "### Build index for approximate vector search"
   ]
  },
  {
   "cell_type": "code",
   "execution_count": 15,
   "metadata": {},
   "outputs": [],
   "source": [
    "# choose parameters to determine IVF-flat approximate vector search\n",
    "nlists = 100\n",
    "nprobes = 5"
   ]
  },
  {
   "cell_type": "code",
   "execution_count": 16,
   "metadata": {},
   "outputs": [
    {
     "name": "stdout",
     "output_type": "stream",
     "text": [
      "creating index...\n",
      "done index creation!\n"
     ]
    }
   ],
   "source": [
    "demo.create_index_ivfflat(nlists, nprobes, force_use_index=False)"
   ]
  },
  {
   "cell_type": "markdown",
   "metadata": {},
   "source": [
    "### Prepare a query text"
   ]
  },
  {
   "cell_type": "code",
   "execution_count": 17,
   "metadata": {},
   "outputs": [],
   "source": [
    "query_text = \"Can you recommend 3 TVs?\""
   ]
  },
  {
   "cell_type": "markdown",
   "metadata": {},
   "source": [
    "### Run the query"
   ]
  },
  {
   "cell_type": "code",
   "execution_count": 18,
   "metadata": {},
   "outputs": [],
   "source": [
    "topk = 10"
   ]
  },
  {
   "cell_type": "code",
   "execution_count": 19,
   "metadata": {},
   "outputs": [
    {
     "name": "stdout",
     "output_type": "stream",
     "text": [
      "Query time: 0.026128053665161133 milli seconds\n"
     ]
    }
   ],
   "source": [
    "import time\n",
    "\n",
    "start_time = time.time()\n",
    "results = demo.query(query_text, topk)\n",
    "total_time = time.time() - start_time\n",
    "print(\"Query time:\", total_time, \"milli seconds\")"
   ]
  },
  {
   "cell_type": "markdown",
   "metadata": {},
   "source": [
    "### Check query results"
   ]
  },
  {
   "cell_type": "code",
   "execution_count": 20,
   "metadata": {},
   "outputs": [],
   "source": [
    "def display_table(data):\n",
    "    from IPython.display import HTML, display\n",
    "    html = \"<table>\"\n",
    "    for row in data:\n",
    "        html += \"<tr>\"\n",
    "        for field in row:\n",
    "            html += \"<td>%s</td>\"%(field)\n",
    "        html += \"</tr>\"\n",
    "    html += \"</table>\"\n",
    "    display(HTML(html))"
   ]
  },
  {
   "cell_type": "code",
   "execution_count": 21,
   "metadata": {},
   "outputs": [
    {
     "data": {
      "text/html": [
       "<table><tr><td>18327</td><td>Does anyone out there have the 75inch Samsung UN75F6400, I would like to see a review on that, seems like all the review I read was 40-55inch</td><td>This is an amazing TV and it is the second one I purchase. The picture quality is great but it is a lot better if you calibrate the TV. The TV is great for bright rooms and looks great from every angle. I have got lots of compliments on it. Stay away of the voice control it's not worth your time, in my opinion. Also, it is surprisingly light so two people can easily mount it on the wall. As Brian below said the 3D is unbelievable.</td></tr><tr><td>7807</td><td>Panasonic Plasma vs. Sony LCD Please help. i've narrowed my choices down to these two TVs: 1.) Panasonic PH46PZ85U [plasma] and 2.) Sony KDL46Z4100B [LCD]. i've been flipping back and forth for three months now trying to decide between these two TVs. i've done tons of research and have been to several stores looking at these two TVs and i just can't make up my mind. i,ve been to consumer reports.com and cnet.com. both had reviews for the Panasonic but little or no information on the Sony. i like to watch lots of DVD movies, sports (football and NASCAR mostly) and primetime standard cable TV. i plan on buying a Blue-Ray player before christmas. i have an Onkyo Integra receiver and 6 disc CD changer, Sony DVD player and DVR DVD recorder. i would love to here your comments.thank you,Lee Panasonic Plasma vs. Sony LCD Please help. i've narrowed my choices down to these two TVs: 1.) Panasonic PH46PZ85U [plasma] and 2.) Sony KDL46Z4100B [LCD]. i've been flipping back and... » Read More Panasonic Plasma vs. Sony LCD Please help. i've narrowed my choices down to these two TVs: 1.) Panasonic PH46PZ85U [plasma] and 2.) Sony KDL46Z4100B [LCD]. i've been flipping back and forth for three months now trying to decide between these two TVs. i've done tons of research and have been to several stores looking at these two TVs and i just can't make up my mind. i,ve been to consumer reports.com and cnet.com. both had reviews for the Panasonic but little or no information on the Sony. i like to watch lots of DVD movies, sports (football and NASCAR mostly) and primetime standard cable TV. i plan on buying a Blue-Ray player before christmas. i have an Onkyo Integra receiver and 6 disc CD changer, Sony DVD player and DVR DVD recorder. i would love to here your comments.thank you,Lee « Show Less</td><td>I don't know if you made your purchase yet or not, but I'd check out the difference in glare/reflections from the screens. I have heard the Sony has a non-glare screen, but most plasmas have a glass screen that reflects background light and can be distracting.</td></tr><tr><td>5165</td><td>Vizio Quality VIZIO XVT553SV 55-Inch Class Full Array TruLED with Smart Dimming LCD HDTV 240 Hz SPS with VIZIO Internet AppsI am thinking about purchasing this set but am wondering about Vizio quality. Has anyone had any wxperience with Vizio and how they hold up? Vizio Quality VIZIO XVT553SV 55-Inch Class Full Array TruLED with Smart Dimming LCD HDTV 240 Hz SPS with VIZIO Internet AppsI am thinking about purchasing this set but am wondering about... » Read More Vizio Quality VIZIO XVT553SV 55-Inch Class Full Array TruLED with Smart Dimming LCD HDTV 240 Hz SPS with VIZIO Internet AppsI am thinking about purchasing this set but am wondering about Vizio quality. Has anyone had any wxperience with Vizio and how they hold up? « Show Less</td><td>I deleted my apps as well, and the RVR is still occurring. It's been long enough Vizio, it's time for you to fix the tvs you've already sold, and are not slowing down selling!!! FIX IT!I won't be buying another Vizio product again, I'll tell you that...</td></tr><tr><td>5168</td><td>Vizio Quality VIZIO XVT553SV 55-Inch Class Full Array TruLED with Smart Dimming LCD HDTV 240 Hz SPS with VIZIO Internet AppsI am thinking about purchasing this set but am wondering about Vizio quality. Has anyone had any wxperience with Vizio and how they hold up? Vizio Quality VIZIO XVT553SV 55-Inch Class Full Array TruLED with Smart Dimming LCD HDTV 240 Hz SPS with VIZIO Internet AppsI am thinking about purchasing this set but am wondering about... » Read More Vizio Quality VIZIO XVT553SV 55-Inch Class Full Array TruLED with Smart Dimming LCD HDTV 240 Hz SPS with VIZIO Internet AppsI am thinking about purchasing this set but am wondering about Vizio quality. Has anyone had any wxperience with Vizio and how they hold up? « Show Less</td><td>There is a thread in avsforum dedicated to the xvt3 series. There have been some issues reported - RVR (random Vizio Reboot), Sets turning on by itself, occasional defective units. Not all TVs are affected and similar problems are not uncommon in other models. Vizio 's support has been prompt in most cases.Picture Quality wise - Vizio ranks highly - esp in pro reviews. There are the standard issues - blooming and some uniformity issues. Also the set does not handle 1080p/24 correctly according to pro reviews .. It uses 3:2 pulldown on 1080p/24 material (e.g. Blu Ray) which can lead to judder in some scenes, There is a thread in avsforum dedicated to the xvt3 series. There have been some issues reported - RVR (random Vizio Reboot), Sets turning on by itself, occasional defective units. Not all TVs are affected and similar problems are not uncommon in other models. Vizio 's support has been prompt in most cases.Picture Quality wise - Vizio ranks highly - esp in pro reviews. There are the standard issues - blooming and some uniformity issues. Also the set does not handle 1080p/24 correctly according to pro reviews .. It uses 3:2 pulldown on 1080p/24 material (e.g. Blu Ray) which can... » Read More There is a thread in avsforum dedicated to the xvt3 series. There have been some issues reported - RVR (random Vizio Reboot), Sets turning on by itself, occasional defective units. Not all TVs are affected and similar problems are not uncommon in other models. Vizio 's support has been prompt in most cases.Picture Quality wise - Vizio ranks highly - esp in pro reviews. There are the standard issues - blooming and some uniformity issues. Also the set does not handle 1080p/24 correctly according to pro reviews .. It uses 3:2 pulldown on 1080p/24 material (e.g. Blu Ray) which can lead to judder in some scenes, « Show Less</td></tr><tr><td>2040</td><td>So I'm considering buying this tv used. What are peoples reviews on this tv 7 years later?</td><td>I own it and it is mostly fine. After a move a few years ago, a yellow line runs down the middle that is only really noticeable on blue backgrounds. It runs hot and is an energy hog (200w) compared to current LCD tvs. Also the contrast and resolution is not as sharp as current tvs even at 720p. The remote only works if you point it at the lower right corner of the TV, where the sensor is. 40\" tvs are $300 new (with better specs), so I hope you get a good deal.</td></tr><tr><td>5169</td><td>Vizio Quality VIZIO XVT553SV 55-Inch Class Full Array TruLED with Smart Dimming LCD HDTV 240 Hz SPS with VIZIO Internet AppsI am thinking about purchasing this set but am wondering about Vizio quality. Has anyone had any wxperience with Vizio and how they hold up? Vizio Quality VIZIO XVT553SV 55-Inch Class Full Array TruLED with Smart Dimming LCD HDTV 240 Hz SPS with VIZIO Internet AppsI am thinking about purchasing this set but am wondering about... » Read More Vizio Quality VIZIO XVT553SV 55-Inch Class Full Array TruLED with Smart Dimming LCD HDTV 240 Hz SPS with VIZIO Internet AppsI am thinking about purchasing this set but am wondering about Vizio quality. Has anyone had any wxperience with Vizio and how they hold up? « Show Less</td><td>I ended up deleting the apps I dont use and my random reset problem went away. It was doing it nearly every day until I deleted the apps. I think the apps update on their own and every time it does it auto-restarts.</td></tr><tr><td>6473</td><td>does anyone have experience with Sony customer service? I have, and they are so sub standard as to be beyond belief. Save yourself some aggravation, don't buy Sony!</td><td>Hello George. Talked to Sony customer service three times today. Gave them Model & Serial numbers of our Vega Triniton. They confirmed it was a projector TV that entitled people to a free tv with free shipping. Our TV was not a projection TV. Suppose yours was? Anyway, the TV is at the curb for the City to pick up on Wednesday. Sony and I are no longer going to do business, but that's OK. Thanks for all your help.</td></tr><tr><td>2039</td><td>So I'm considering buying this tv used. What are peoples reviews on this tv 7 years later?</td><td>I do not have the original purchased TV. In 2009 a white line appeared across the width of the screen. It could not be fixed. Samsung replaced the TV but since it was out of warranty I had to pay $300 for new one. The second one, same model has been fine.</td></tr><tr><td>14976</td><td>This or the Sony STRDN1030? I have Sony TV and a PS3, so just wondering if it really makes all that difference in having \"everything sony\"?</td><td>No, there is no advantage to having all components in an AV system being all the same brand. Unless you like the idea of seeing the same name on everything....</td></tr><tr><td>5164</td><td>Vizio Quality VIZIO XVT553SV 55-Inch Class Full Array TruLED with Smart Dimming LCD HDTV 240 Hz SPS with VIZIO Internet AppsI am thinking about purchasing this set but am wondering about Vizio quality. Has anyone had any wxperience with Vizio and how they hold up? Vizio Quality VIZIO XVT553SV 55-Inch Class Full Array TruLED with Smart Dimming LCD HDTV 240 Hz SPS with VIZIO Internet AppsI am thinking about purchasing this set but am wondering about... » Read More Vizio Quality VIZIO XVT553SV 55-Inch Class Full Array TruLED with Smart Dimming LCD HDTV 240 Hz SPS with VIZIO Internet AppsI am thinking about purchasing this set but am wondering about Vizio quality. Has anyone had any wxperience with Vizio and how they hold up? « Show Less</td><td>a little bit of Blooming but hardly noticable. I still havce the back light at 85 percent and i only notice it during the Adult Swim Bumps where it is a black screen with bright white text, and even then it is not that noticable.</td></tr></table>"
      ],
      "text/plain": [
       "<IPython.core.display.HTML object>"
      ]
     },
     "metadata": {},
     "output_type": "display_data"
    }
   ],
   "source": [
    "res_table = []\n",
    "for res in results:\n",
    "    idx, question, answer, emb_vec = res\n",
    "    res_table.append([idx, question, answer])\n",
    "    #print(idx, \"\\n\", question, \"\\n---------->\", answer)\n",
    "    \n",
    "display_table(res_table)"
   ]
  },
  {
   "cell_type": "code",
   "execution_count": null,
   "metadata": {},
   "outputs": [],
   "source": []
  }
 ],
 "metadata": {
  "kernelspec": {
   "display_name": "RooVenv",
   "language": "python",
   "name": "roovenv"
  },
  "language_info": {
   "codemirror_mode": {
    "name": "ipython",
    "version": 3
   },
   "file_extension": ".py",
   "mimetype": "text/x-python",
   "name": "python",
   "nbconvert_exporter": "python",
   "pygments_lexer": "ipython3",
   "version": "3.13.5"
  }
 },
 "nbformat": 4,
 "nbformat_minor": 4
}
