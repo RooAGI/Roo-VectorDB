{
 "cells": [
  {
   "cell_type": "markdown",
   "metadata": {},
   "source": [
    "# Long Document (Book) Search Tutorial"
   ]
  },
  {
   "cell_type": "markdown",
   "metadata": {},
   "source": [
    "### Ensure Roo-VectorDB has been installed"
   ]
  },
  {
   "cell_type": "markdown",
   "metadata": {},
   "source": [
    "**Please verify the installation of Roo-VectorDB before running any tutorials. Refer main README file Installation section to learn how to install Roo-VectorDB.**"
   ]
  },
  {
   "cell_type": "markdown",
   "metadata": {},
   "source": [
    "### Download data files"
   ]
  },
  {
   "cell_type": "markdown",
   "metadata": {},
   "source": [
    "In this tutorial, we demonstrate how to perform long-document search using Roo-VectorDB. As an example, we treat books as long documents, and show how to run searches at different levels of granularity—such as chapters, sections, paragraphs, or the entire book.\n",
    "We use the [Pile](https://huggingface.co/datasets/EleutherAI/pile) dataset (specifically the *Books1* subset) as the source of data. This subset contains approximately 18,000 books, each ranging from 100,000 to 1,000,000 words. For this tutorial, we randomly sample 1,000 books from the dataset.\n",
    "Because a single book is too large to store as one record—making both storage and search inefficient—we preprocess the books using [LangChain TextSplitter](https://python.langchain.com/docs/concepts/text_splitters/). Each book is split into 1024‑token chunks with a 30% overlap between adjacent chunks. Each chunk is stored as an individual row in the database table. The preprocessed dataset can be downloaded here:\n",
    "\n",
    "1. Preprocessed Pile Books1 data file: [pile_book1.jsonl](https://rooagi8-my.sharepoint.com/:u:/g/personal/chaoma_rooagi_com/EUNiTYeTIPNKrr-NI4t-BOcB9mlh_15NIVNSIF7D75RztA?e=AecDqa) (506.5MB)\n",
    "\n",
    "Please verify the file size after downloading to ensure the download completed successfully and the file is not corrupted."
   ]
  },
  {
   "cell_type": "markdown",
   "metadata": {},
   "source": [
    "### Setup"
   ]
  },
  {
   "cell_type": "code",
   "execution_count": 1,
   "metadata": {},
   "outputs": [],
   "source": [
    "# Set postgres login info here\n",
    "PG_USERNAME = <YOUR-USER-NAME> # for example: 'ann'\n",
    "PG_DBNAME = <YOUR-DBNAME> # for example: 'ann'\n",
    "PG_HOST = <YOUR-HOST> # for example: 'localhost' \n",
    "PG_PORT = <YOUR-PORT> # for example: 58432\n",
    "PG_PSWORD = <YOUR-USER-PASSWORD>\n",
    "\n",
    "# Set path of demo data file\n",
    "embedding_info = (\n",
    "    \"pilebook1_dim768\", # name of table in postgres \n",
    "    \"./pile_book1.jsonl\" # demo data file\n",
    ")"
   ]
  },
  {
   "cell_type": "markdown",
   "metadata": {},
   "source": [
    "### Load Text Embedding Model"
   ]
  },
  {
   "cell_type": "code",
   "execution_count": 2,
   "metadata": {},
   "outputs": [
    {
     "name": "stderr",
     "output_type": "stream",
     "text": [
      "/home/chaom/workplace/rooagi/roo-vectordb-cpu/tutorials/roovenv/lib64/python3.13/site-packages/tqdm/auto.py:21: TqdmWarning: IProgress not found. Please update jupyter and ipywidgets. See https://ipywidgets.readthedocs.io/en/stable/user_install.html\n",
      "  from .autonotebook import tqdm as notebook_tqdm\n"
     ]
    }
   ],
   "source": [
    "import sentence_transformers\n",
    "import pickle\n",
    "import os\n",
    "import torch\n",
    "torch.cuda.is_available = lambda : False\n",
    "\n",
    "SENT_EMBED_MODEL_PATH = \"sent_embedding_model_cache.pickle\"\n",
    "\n",
    "def save_mode(model, fn=SENT_EMBED_MODEL_PATH):\n",
    "    with open(fn, 'wb') as fp:\n",
    "        pickle.dump(model, fp)\n",
    "\n",
    "class MySentenceEmbeddingModel:\n",
    "\n",
    "    def __init__(self):\n",
    "        self.model = self.load_if_exist()\n",
    "\n",
    "    def compute_embedding(self, text_batch):\n",
    "        return self.model.encode(text_batch)\n",
    "\n",
    "    def load_if_exist(self, fn=SENT_EMBED_MODEL_PATH):\n",
    "        if os.path.exists(fn):\n",
    "            with open(fn, 'rb') as fp:\n",
    "                model = pickle.load(fp)\n",
    "                print(\"model loaded from \", fn)\n",
    "                return model\n",
    "        else:\n",
    "            print(\"downloading model\")\n",
    "            model = sentence_transformers.SentenceTransformer(\"all-mpnet-base-v2\")\n",
    "            save_mode(model, fn=SENT_EMBED_MODEL_PATH)\n",
    "            return model\n",
    "        \n",
    "    def get_dimension(self):\n",
    "        return 768"
   ]
  },
  {
   "cell_type": "markdown",
   "metadata": {},
   "source": [
    "### Prepare demo data"
   ]
  },
  {
   "cell_type": "code",
   "execution_count": 3,
   "metadata": {},
   "outputs": [],
   "source": [
    "import sys\n",
    "sys.path.append('../python')\n",
    "import random\n",
    "import json\n",
    "import os\n",
    "import psycopg\n",
    "import roovector.psycopg as roovec_psycopg\n",
    "\n",
    "def cleanup_chunk_text(text):\n",
    "    line_text = [line for line in text.splitlines() if not (line.strip() == \"\")]\n",
    "    return \" [NEWLINE] \".join(line_text)\n",
    "\n",
    "class LongDocumentSearchDemo(object):\n",
    "\n",
    "    def __init__(self, tb_name, data_fn):\n",
    "        self.pg_conn = self.make_connection()\n",
    "        self.cur = self.pg_conn.cursor()\n",
    "        self.table_name = tb_name\n",
    "        self.n_rows = 0\n",
    "        self.data_fn = data_fn\n",
    "        self.sentemb_model = MySentenceEmbeddingModel()\n",
    "        self.dimension = self.sentemb_model.get_dimension()\n",
    "\n",
    "    def make_connection(self):\n",
    "        conn = psycopg.connect(user=PG_USERNAME, dbname=PG_DBNAME, host=PG_HOST, port=PG_PORT, password=PG_PSWORD, autocommit=True)\n",
    "        roovec_psycopg.register_roovector(conn)\n",
    "        return conn\n",
    "\n",
    "    def prepare_table(self, copy_data=True):\n",
    "        self.cur.execute(\"DROP TABLE IF EXISTS %s\" % self.table_name)\n",
    "        self.cur.execute(\n",
    "            \"CREATE TABLE %s (book_id int, chunk_id int, chunk_text varchar, book_title varchar, embedding roovector(%d))\" % (self.table_name, self.dimension))\n",
    "        storage_fmt = \"PLAIN\"\n",
    "        if self.dimension > 2000:\n",
    "            storage_fmt = \"EXTENDED\"\n",
    "        self.cur.execute(\"ALTER TABLE %s ALTER COLUMN embedding SET STORAGE %s\" % (self.table_name, storage_fmt))\n",
    "\n",
    "        if copy_data:\n",
    "            print(\"copying data...\")\n",
    "            with self.cur.copy(f\"COPY {self.table_name} (book_id, chunk_id, chunk_text, book_title, embedding) FROM STDIN WITH (FORMAT BINARY)\") as copy:\n",
    "                copy.set_types([\"int4\", \"int4\", \"varchar\", \"varchar\", \"roovector\"])\n",
    "\n",
    "                cnt = 0\n",
    "                lncnt = 0\n",
    "\n",
    "                batch_size = 256\n",
    "                batch_tuples = []\n",
    "                batch_texts = []\n",
    "                with open(self.data_fn, 'r') as f:\n",
    "                    for line in f:\n",
    "                        try:\n",
    "                            json_obj = json.loads(line)\n",
    "                            chuck_text = json_obj['chunk_text']\n",
    "                            chuck_id = json_obj['chunk_id']\n",
    "                            book_id = json_obj['book_id']\n",
    "                            book_title = json_obj['book_title']\n",
    "\n",
    "                            batch_tuples.append((book_id, chuck_id, cleanup_chunk_text(chuck_text), book_title))\n",
    "                            batch_texts.append(chuck_text)\n",
    "                            cnt += 1\n",
    "\n",
    "                            if len(batch_texts) >= batch_size:\n",
    "                                batch_embedding = self.sentemb_model.compute_embedding(batch_texts)\n",
    "                                print(\"Computed\", cnt, \"rows\")\n",
    "                                print(\"Embedding matrix shape:\", batch_embedding.shape)\n",
    "                                for j in range(0, len(batch_texts)):\n",
    "                                    copy.write_row((batch_tuples[j][0], batch_tuples[j][1], batch_tuples[j][2], batch_tuples[j][3], batch_embedding[j].tolist()))\n",
    "                                batch_texts.clear()\n",
    "                                batch_tuples.clear()\n",
    "\n",
    "                            lncnt += 1\n",
    "                            if lncnt >= 1024:\n",
    "                                break\n",
    "                        except json.JSONDecodeError as e:\n",
    "                            print(f\"Error decoding JSON on line: {line.strip()} - {e}\")\n",
    "\n",
    "                    self.n_rows = cnt\n",
    "                print(\"done writing table!\")\n",
    "\n",
    "    def create_index_ivfflat(self, nlists, nprobes, force_use_index=True):\n",
    "        print(\"creating index...\")\n",
    "        self.cur.execute(\n",
    "            \"CREATE INDEX demo_index ON %s USING roo_ivfflat (embedding roovector_cosine_ops) WITH (lists = %d)\" % (\n",
    "                self.table_name, nlists))\n",
    "        self.cur.execute(\"SET roo_ivfflat.probes = %d\" % nprobes)\n",
    "        print(\"done index creation!\")\n",
    "        if force_use_index:\n",
    "            self.cur.execute(\"SET enable_seqscan=false\")\n",
    "\n",
    "    # query for the most similar book to the query_text\n",
    "    def query_for_book_title(self, query_text, k):\n",
    "        qxs = self.sentemb_model.compute_embedding([query_text])\n",
    "        query_stm = \"SELECT book_id, book_title, MIN(embedding <=> '%s') AS similarity FROM %s GROUP BY book_id, book_title ORDER BY similarity LIMIT %s\"\n",
    "        self.cur.execute(query_stm % ( str(qxs[0].tolist()), self.table_name, k), binary=True, prepare=True)\n",
    "        return self.cur.fetchall()\n",
    "\n",
    "    # query for the most similar text chunk to the query_text\n",
    "    def query_for_text_segment(self, query_text, k):\n",
    "        qxs = self.sentemb_model.compute_embedding([query_text])\n",
    "        query_stm = \"SELECT book_id, book_title, chunk_text FROM %s ORDER BY embedding <=> '%s' LIMIT %s\"\n",
    "        self.cur.execute(query_stm % (self.table_name, str(qxs[0].tolist()), k), binary=True, prepare=True)\n",
    "        return self.cur.fetchall()\n",
    "\n",
    "    # query for the most similar text chunk from distinic books to the query_text\n",
    "    def query_for_text_segment_distinict_book(self, query_text, k):\n",
    "        qxs = self.sentemb_model.compute_embedding([query_text])\n",
    "        query_stm = \"SELECT book_id, book_title, chunk_id, chunk_text, MIN(embedding <=> '%s') AS similarity FROM %s GROUP BY book_id, book_title, chunk_id, chunk_text ORDER BY similarity LIMIT %s\"\n",
    "        self.cur.execute(query_stm % ( str(qxs[0].tolist()), self.table_name, k), binary=True, prepare=True)\n",
    "        return self.cur.fetchall()\n",
    "    "
   ]
  },
  {
   "cell_type": "markdown",
   "metadata": {},
   "source": [
    "### Create the demo object"
   ]
  },
  {
   "cell_type": "code",
   "execution_count": 4,
   "metadata": {},
   "outputs": [
    {
     "name": "stdout",
     "output_type": "stream",
     "text": [
      "model loaded from  sent_embedding_model_cache.pickle\n"
     ]
    }
   ],
   "source": [
    "demo = LongDocumentSearchDemo(embedding_info[0],\n",
    "                              embedding_info[1])"
   ]
  },
  {
   "cell_type": "markdown",
   "metadata": {},
   "source": [
    "### Create table and index"
   ]
  },
  {
   "cell_type": "code",
   "execution_count": 5,
   "metadata": {},
   "outputs": [
    {
     "name": "stdout",
     "output_type": "stream",
     "text": [
      "copying data...\n",
      "Computed 256 rows\n",
      "Embedding matrix shape: (256, 768)\n",
      "Computed 512 rows\n",
      "Embedding matrix shape: (256, 768)\n",
      "Computed 768 rows\n",
      "Embedding matrix shape: (256, 768)\n",
      "Computed 1024 rows\n",
      "Embedding matrix shape: (256, 768)\n",
      "done writing table!\n",
      "Total number of rows: 1024\n"
     ]
    }
   ],
   "source": [
    "demo.prepare_table()\n",
    "\n",
    "print(\"Total number of rows:\", demo.n_rows)"
   ]
  },
  {
   "cell_type": "markdown",
   "metadata": {},
   "source": [
    "### Build index for approximate vector search"
   ]
  },
  {
   "cell_type": "code",
   "execution_count": 6,
   "metadata": {},
   "outputs": [],
   "source": [
    "# choose parameters to determine IVF-flat approximate vector search\n",
    "nlists = 1000\n",
    "nprobes = 10"
   ]
  },
  {
   "cell_type": "code",
   "execution_count": 7,
   "metadata": {},
   "outputs": [
    {
     "name": "stdout",
     "output_type": "stream",
     "text": [
      "creating index...\n",
      "done index creation!\n"
     ]
    }
   ],
   "source": [
    "demo.create_index_ivfflat(nlists, nprobes, force_use_index=False)"
   ]
  },
  {
   "cell_type": "code",
   "execution_count": 8,
   "metadata": {},
   "outputs": [],
   "source": [
    "def decorate_text(text):\n",
    "    paragraphs = text.split(' [NEWLINE] ')\n",
    "    paragraphs2 = [\"<p style=\\\"text-align:left\\\">\" + par + \"</p>\" for par in paragraphs]\n",
    "    paragraphs2 = paragraphs2[0:min(3, len(paragraphs2))]\n",
    "    return \"\".join(paragraphs2) +  \"...... <em>[remaining content not displayed]</em>\""
   ]
  },
  {
   "cell_type": "code",
   "execution_count": 9,
   "metadata": {},
   "outputs": [],
   "source": [
    "def display_table(data, header=None):\n",
    "    from IPython.display import HTML, display\n",
    "    html = \"<table>\"\n",
    "    \n",
    "    if header is not None:\n",
    "        html += \"<tr>\"\n",
    "        for name in header:\n",
    "            html += \"<td><b>%s</b></td>\"%(name)\n",
    "        html += \"</tr>\"\n",
    "    \n",
    "    for row in data:\n",
    "        html += \"<tr>\"\n",
    "        for field in row:\n",
    "            html += \"<td>%s</td>\"%(field)\n",
    "        html += \"</tr>\"\n",
    "    html += \"</table>\"\n",
    "    display(HTML(html))"
   ]
  },
  {
   "cell_type": "markdown",
   "metadata": {},
   "source": [
    "### Prepare a query text"
   ]
  },
  {
   "cell_type": "code",
   "execution_count": 10,
   "metadata": {},
   "outputs": [],
   "source": [
    "query_text = \"It does not do to dwell on dreams and forget to live, remember that.\""
   ]
  },
  {
   "cell_type": "markdown",
   "metadata": {},
   "source": [
    "### Query Type 1: Search for similar book paragraphs that may originate from the same book"
   ]
  },
  {
   "cell_type": "markdown",
   "metadata": {},
   "source": [
    "Search for the paragraph most similar to the query_text. The returned paragraphs may originate from the same book."
   ]
  },
  {
   "cell_type": "code",
   "execution_count": 11,
   "metadata": {},
   "outputs": [],
   "source": [
    "topk = 10"
   ]
  },
  {
   "cell_type": "code",
   "execution_count": 12,
   "metadata": {},
   "outputs": [
    {
     "name": "stdout",
     "output_type": "stream",
     "text": [
      "Query time: 0.030430316925048828 milli seconds\n"
     ]
    }
   ],
   "source": [
    "import time\n",
    "\n",
    "start_time = time.time()\n",
    "results = demo.query_for_text_segment(query_text, topk)\n",
    "total_time = time.time() - start_time\n",
    "print(\"Query time:\", total_time, \"milli seconds\")"
   ]
  },
  {
   "cell_type": "code",
   "execution_count": 13,
   "metadata": {},
   "outputs": [
    {
     "data": {
      "text/html": [
       "<table><tr><td><b>Book ID</b></td><td><b>Book Title</b></td><td><b>Paragraph Text</b></td></tr><tr><td>6</td><td>The dogs may bark but the caravan moves on the spirit realm </td><td><p style=\"text-align:left\">I also expect to create my own imagined physical environment which reflects, possibly, my past lives; or, more probably, my preferred environment. If the latter, I would be located on a luscious mountain-side, with a fast-flowing river, both visible and audible; yet to be able to see a beach and the sea.</p><p style=\"text-align:left\">What I find mysteriously fascinating is that I have already had a dream of such an environment, after months of pondering what my next temporary home would be like.</p><p style=\"text-align:left\">During this dream, I heard human voices, but they did not come near me – for which I was grateful. This dream offered me a true R&R environment. It is also consistent with my recent life as a recluse in an isolating environment, with absolutely minimal human contact.</p>...... <em>[remaining content not displayed]</em></td></tr><tr><td>6</td><td>The dogs may bark but the caravan moves on the spirit realm </td><td><p style=\"text-align:left\">I have achieved spiritual peace through my exposure to the spirit realm. That has led to a deeper understanding of humanity, and its strengths and foibles. Meaningful patterns of significance may be discerned through perusing the complex mesh of inter-twined destinies.</p><p style=\"text-align:left\">My reality now involves 3 dimensions: the physical, the mental, and the spiritual. While the mental can throw light upon the physical, it is the spiritual, the ephemeral, the ethereal realm which illuminates the totality of existence.</p><p style=\"text-align:left\">###  The spirit realm and I (Part 1)</p>...... <em>[remaining content not displayed]</em></td></tr><tr><td>6</td><td>The dogs may bark but the caravan moves on the spirit realm </td><td><p style=\"text-align:left\">This life was imposed upon me, but it is acceptable as consistent with the guidance offered by Hinduism. _Hinduism recommends that, once one has completed one's commitments to family and society, one could withdraw from society to live a life of contemplation and meditation._</p><p style=\"text-align:left\">For example, a cave in the Himalayan mountains had been the meditation home for 3 years of the yogi who had come down to Malaya to guide my widowed mother and I about our respective futures. _Years later, when I detected a coherent pattern in my life, I knew that he had been sent to us_. I remember that he was clearly at peace, and apparently unaffected by the cold of the mountain.</p><p style=\"text-align:left\">In my more comfortable retirement 'cave' I too have achieved peace (after a turbulent life). While the dogs do bark (and snap), this caravan will move on, ignoring those who foolishly insist that only their beliefs must prevail. Certainty is, in my experience, not a human condition.</p>...... <em>[remaining content not displayed]</em></td></tr><tr><td>6</td><td>The dogs may bark but the caravan moves on the spirit realm </td><td><p style=\"text-align:left\">Since I had been advised by a casual clairvoyant (or seer) to listen to my subconscious for messages from my Spirit Guide, I wonder if my dream was more than wishful thinking. Living in a flat country whose highest mountain is a mere pimple, whose rivers do not seem to flow like those in New Zealand, and whose dry terrain does not attract much rain (except for sudden troubling downpours occasionally), my subconscious may be seeking to compensate for this deprivation by Nature.</p><p style=\"text-align:left\">_In my dream, I was on a lush mountain top, with a raging river below on one side and a cliff on the other – which allowed me to see the distant sea and a rocky shore. It was raining, but I do not remember getting wet. I heard voices, yet neither saw nor met anyone. It was as if we were all avoiding one another._ In the morning, I again remembered this compensatory dream. After all, had I not been born and bred in a lush tropical terrain? Had I not enjoyed the years I had lived there?</p><p style=\"text-align:left\">Then, much to my great surprise, **during my sleep a few nights later, I had a thought flitting through my mind. Intuitively, I felt that spirits created their own personal environments in the Afterlife.** Was that message from my Spirit Guide? As a recluse of many years, I am attracted to this possibility.</p>...... <em>[remaining content not displayed]</em></td></tr><tr><td>5</td><td>Satan the sworn enemy of mankind</td><td><p style=\"text-align:left\">Examples are provided in the Qur'an of the types of forgetfulness which Satan seeks to inspire in believers. Among these examples are instances of remaining in the company of those who ridicule the verses of the Qur'an. Allah advises the believers to avoid such discussions, and warns them of Satan's propensity to inspire forgetfulness:</p><p style=\"text-align:left\">When you see people engrossed in mockery of Our Signs, turn from them until they start to talk of other things. And if Satan should ever cause you to forget, once you remember, do not stay sitting with the wrongdoers. (Surat al-An`am, 68)</p><p style=\"text-align:left\">Another stipulation recalls that it is only possible to do something if Allah has so ordained it:</p>...... <em>[remaining content not displayed]</em></td></tr><tr><td>6</td><td>The dogs may bark but the caravan moves on the spirit realm </td><td><p style=\"text-align:left\">#</p><p style=\"text-align:left\">THE DOGS MAY BARK  </p><p style=\"text-align:left\">BUT THE CARAVAN MOVES ON</p>...... <em>[remaining content not displayed]</em></td></tr><tr><td>6</td><td>The dogs may bark but the caravan moves on the spirit realm </td><td><p style=\"text-align:left\">The message? Go, with faith, wherever the currents in the ocean of existence take you.</p><p style=\"text-align:left\">###  A Seeker wanders and wonders – cremation and compassion</p><p style=\"text-align:left\">**A sofrologist friend (a medico who uses hypnotherapy to treat his patients) sought to help me with my stress.** _Under hypnosis, I learnt to deal with an unhappy memory thus. I was to place this memory on a stage, and close the curtains, saying 'The show is over.' That process did help._</p>...... <em>[remaining content not displayed]</em></td></tr><tr><td>7</td><td>3 book romance bundle loving the bull rider cowboy down unde</td><td><p style=\"text-align:left\">Coercing myself to breathe slowly, I lowered my arm while I tried to remember anything I'd passed on the road; a gas station, a motel or a roadside diner. But I couldn't recall seeing a damn thing for at least an hour. In the other direction, meanwhile, was the unknown. However, it seemed a fair bet that if nothing was behind me for an hour, than something had to be coming up ahead...didn't it?</p><p style=\"text-align:left\">I simply did not know what to do for the best. But I did feel the compulsion to do something, because standing right where I was equalled lying down and accepting I would have to spend the night in the middle of nowhere, with God knows who, and what, for company.</p><p style=\"text-align:left\">So, keeping my phone in my hand and snatching desperate glances at it with every few steps, I began to walk away from the car - hoping that my guess about a truck stop, or something, up ahead was right.</p>...... <em>[remaining content not displayed]</em></td></tr><tr><td>6</td><td>The dogs may bark but the caravan moves on the spirit realm </td><td><p style=\"text-align:left\">I was reminded then of _the most significant spirit intervention in my life. I had been pulled out of that metaphoric deep well_ (where I had no thought, no feeling, and no future) into the sunlit realm of normal existence by a young, chatty, attractive, and kind girl. We had eloped and married. We lived in Singapore for a year. _When we returned to Australia, the higher beings in the spirit realm should have been pleased, should they not?_</p><p style=\"text-align:left\">When I had completed my qualifications and obtained employment in the national capital (which was set in a desert), my wife remained in her State-capital metropolitan home-city. **My palm-readers had been right all along!** I then wondered: when would I enjoy a normal stable life?</p><p style=\"text-align:left\">_Through a chance meeting (or, was it?), I met a young woman who shared all my values!_ I could not believe my good fortune. We married; we produced 2 children (but lost others), while experiencing what seemed to be a normal barrage of life-problems. _We enjoyed a happy family life for a quarter of a century._</p>...... <em>[remaining content not displayed]</em></td></tr><tr><td>0</td><td>More haste the marital trials of brother segun</td><td><p style=\"text-align:left\">'It was some twenty-nine years ago. You were six months in my womb then. Some three men, armed with matchete, burst into our home while your father and I were asleep. They dragged him out and, oh my God! They murdered him, in very cold blood!' She stopped cold and the valve to her tear-store let go freely. Cascading tears pervaded every particle of the emotional pause.</p><p style=\"text-align:left\">Segun squeezed his eyes shut as if remembering something. Yes, the dream. Those three men. That man he bore uncanny resemblance to who was hacked down mercilessly. The woman heavy with pregnancy. Every detail streamed up his memory. Then, they were obscure, even to his pastor. But now, the pictures came out crystal clear.</p><p style=\"text-align:left\">'The dream!'</p>...... <em>[remaining content not displayed]</em></td></tr></table>"
      ],
      "text/plain": [
       "<IPython.core.display.HTML object>"
      ]
     },
     "metadata": {},
     "output_type": "display_data"
    }
   ],
   "source": [
    "res_table = []\n",
    "for res in results:\n",
    "    book_id, book_title, text = res\n",
    "    res_table.append([book_id, book_title, decorate_text(text)])\n",
    "    \n",
    "display_table(res_table, header=[\"Book ID\", \"Book Title\", \"Paragraph Text\"])"
   ]
  },
  {
   "cell_type": "markdown",
   "metadata": {},
   "source": [
    "### Query Type 2: Search for similar book paragraphs distinct book"
   ]
  },
  {
   "cell_type": "markdown",
   "metadata": {},
   "source": [
    "Search for the paragraph most similar to the query_text, ensuring that each returned paragraph are from the distinct books (one paragraph at most per book)."
   ]
  },
  {
   "cell_type": "code",
   "execution_count": 14,
   "metadata": {},
   "outputs": [
    {
     "name": "stdout",
     "output_type": "stream",
     "text": [
      "Query time: 0.06387162208557129 milli seconds\n"
     ]
    }
   ],
   "source": [
    "start_time = time.time()\n",
    "results = demo.query_for_text_segment_distinict_book(query_text, topk)\n",
    "total_time = time.time() - start_time\n",
    "print(\"Query time:\", total_time, \"milli seconds\")"
   ]
  },
  {
   "cell_type": "code",
   "execution_count": 15,
   "metadata": {},
   "outputs": [
    {
     "data": {
      "text/html": [
       "<table><tr><td><b>Book ID</b></td><td><b>Book Title</b></td><td><b>Paragraph ID</b></td><td><b>Paragraph Text</b></td><td><b>Similarity</b></td></tr><tr><td>6</td><td>The dogs may bark but the caravan moves on the spirit realm </td><td>129</td><td><p style=\"text-align:left\">I also expect to create my own imagined physical environment which reflects, possibly, my past lives; or, more probably, my preferred environment. If the latter, I would be located on a luscious mountain-side, with a fast-flowing river, both visible and audible; yet to be able to see a beach and the sea.</p><p style=\"text-align:left\">What I find mysteriously fascinating is that I have already had a dream of such an environment, after months of pondering what my next temporary home would be like.</p><p style=\"text-align:left\">During this dream, I heard human voices, but they did not come near me – for which I was grateful. This dream offered me a true R&R environment. It is also consistent with my recent life as a recluse in an isolating environment, with absolutely minimal human contact.</p>...... <em>[remaining content not displayed]</em></td><td>0.3874507114232435</td></tr><tr><td>6</td><td>The dogs may bark but the caravan moves on the spirit realm </td><td>9</td><td><p style=\"text-align:left\">I have achieved spiritual peace through my exposure to the spirit realm. That has led to a deeper understanding of humanity, and its strengths and foibles. Meaningful patterns of significance may be discerned through perusing the complex mesh of inter-twined destinies.</p><p style=\"text-align:left\">My reality now involves 3 dimensions: the physical, the mental, and the spiritual. While the mental can throw light upon the physical, it is the spiritual, the ephemeral, the ethereal realm which illuminates the totality of existence.</p><p style=\"text-align:left\">###  The spirit realm and I (Part 1)</p>...... <em>[remaining content not displayed]</em></td><td>0.3695750754818372</td></tr><tr><td>6</td><td>The dogs may bark but the caravan moves on the spirit realm </td><td>126</td><td><p style=\"text-align:left\">This life was imposed upon me, but it is acceptable as consistent with the guidance offered by Hinduism. _Hinduism recommends that, once one has completed one's commitments to family and society, one could withdraw from society to live a life of contemplation and meditation._</p><p style=\"text-align:left\">For example, a cave in the Himalayan mountains had been the meditation home for 3 years of the yogi who had come down to Malaya to guide my widowed mother and I about our respective futures. _Years later, when I detected a coherent pattern in my life, I knew that he had been sent to us_. I remember that he was clearly at peace, and apparently unaffected by the cold of the mountain.</p><p style=\"text-align:left\">In my more comfortable retirement 'cave' I too have achieved peace (after a turbulent life). While the dogs do bark (and snap), this caravan will move on, ignoring those who foolishly insist that only their beliefs must prevail. Certainty is, in my experience, not a human condition.</p>...... <em>[remaining content not displayed]</em></td><td>0.3592447852638242</td></tr><tr><td>6</td><td>The dogs may bark but the caravan moves on the spirit realm </td><td>57</td><td><p style=\"text-align:left\">Since I had been advised by a casual clairvoyant (or seer) to listen to my subconscious for messages from my Spirit Guide, I wonder if my dream was more than wishful thinking. Living in a flat country whose highest mountain is a mere pimple, whose rivers do not seem to flow like those in New Zealand, and whose dry terrain does not attract much rain (except for sudden troubling downpours occasionally), my subconscious may be seeking to compensate for this deprivation by Nature.</p><p style=\"text-align:left\">_In my dream, I was on a lush mountain top, with a raging river below on one side and a cliff on the other – which allowed me to see the distant sea and a rocky shore. It was raining, but I do not remember getting wet. I heard voices, yet neither saw nor met anyone. It was as if we were all avoiding one another._ In the morning, I again remembered this compensatory dream. After all, had I not been born and bred in a lush tropical terrain? Had I not enjoyed the years I had lived there?</p><p style=\"text-align:left\">Then, much to my great surprise, **during my sleep a few nights later, I had a thought flitting through my mind. Intuitively, I felt that spirits created their own personal environments in the Afterlife.** Was that message from my Spirit Guide? As a recluse of many years, I am attracted to this possibility.</p>...... <em>[remaining content not displayed]</em></td><td>0.35543066263199097</td></tr><tr><td>5</td><td>Satan the sworn enemy of mankind</td><td>28</td><td><p style=\"text-align:left\">Examples are provided in the Qur'an of the types of forgetfulness which Satan seeks to inspire in believers. Among these examples are instances of remaining in the company of those who ridicule the verses of the Qur'an. Allah advises the believers to avoid such discussions, and warns them of Satan's propensity to inspire forgetfulness:</p><p style=\"text-align:left\">When you see people engrossed in mockery of Our Signs, turn from them until they start to talk of other things. And if Satan should ever cause you to forget, once you remember, do not stay sitting with the wrongdoers. (Surat al-An`am, 68)</p><p style=\"text-align:left\">Another stipulation recalls that it is only possible to do something if Allah has so ordained it:</p>...... <em>[remaining content not displayed]</em></td><td>0.34251680031518994</td></tr><tr><td>6</td><td>The dogs may bark but the caravan moves on the spirit realm </td><td>0</td><td><p style=\"text-align:left\">#</p><p style=\"text-align:left\">THE DOGS MAY BARK  </p><p style=\"text-align:left\">BUT THE CARAVAN MOVES ON</p>...... <em>[remaining content not displayed]</em></td><td>0.32534212700709497</td></tr><tr><td>6</td><td>The dogs may bark but the caravan moves on the spirit realm </td><td>89</td><td><p style=\"text-align:left\">The message? Go, with faith, wherever the currents in the ocean of existence take you.</p><p style=\"text-align:left\">###  A Seeker wanders and wonders – cremation and compassion</p><p style=\"text-align:left\">**A sofrologist friend (a medico who uses hypnotherapy to treat his patients) sought to help me with my stress.** _Under hypnosis, I learnt to deal with an unhappy memory thus. I was to place this memory on a stage, and close the curtains, saying 'The show is over.' That process did help._</p>...... <em>[remaining content not displayed]</em></td><td>0.3238738074227463</td></tr><tr><td>7</td><td>3 book romance bundle loving the bull rider cowboy down unde</td><td>47</td><td><p style=\"text-align:left\">Coercing myself to breathe slowly, I lowered my arm while I tried to remember anything I'd passed on the road; a gas station, a motel or a roadside diner. But I couldn't recall seeing a damn thing for at least an hour. In the other direction, meanwhile, was the unknown. However, it seemed a fair bet that if nothing was behind me for an hour, than something had to be coming up ahead...didn't it?</p><p style=\"text-align:left\">I simply did not know what to do for the best. But I did feel the compulsion to do something, because standing right where I was equalled lying down and accepting I would have to spend the night in the middle of nowhere, with God knows who, and what, for company.</p><p style=\"text-align:left\">So, keeping my phone in my hand and snatching desperate glances at it with every few steps, I began to walk away from the car - hoping that my guess about a truck stop, or something, up ahead was right.</p>...... <em>[remaining content not displayed]</em></td><td>0.32269211546731746</td></tr><tr><td>6</td><td>The dogs may bark but the caravan moves on the spirit realm </td><td>117</td><td><p style=\"text-align:left\">I was reminded then of _the most significant spirit intervention in my life. I had been pulled out of that metaphoric deep well_ (where I had no thought, no feeling, and no future) into the sunlit realm of normal existence by a young, chatty, attractive, and kind girl. We had eloped and married. We lived in Singapore for a year. _When we returned to Australia, the higher beings in the spirit realm should have been pleased, should they not?_</p><p style=\"text-align:left\">When I had completed my qualifications and obtained employment in the national capital (which was set in a desert), my wife remained in her State-capital metropolitan home-city. **My palm-readers had been right all along!** I then wondered: when would I enjoy a normal stable life?</p><p style=\"text-align:left\">_Through a chance meeting (or, was it?), I met a young woman who shared all my values!_ I could not believe my good fortune. We married; we produced 2 children (but lost others), while experiencing what seemed to be a normal barrage of life-problems. _We enjoyed a happy family life for a quarter of a century._</p>...... <em>[remaining content not displayed]</em></td><td>0.32081785798073037</td></tr><tr><td>0</td><td>More haste the marital trials of brother segun</td><td>17</td><td><p style=\"text-align:left\">'It was some twenty-nine years ago. You were six months in my womb then. Some three men, armed with matchete, burst into our home while your father and I were asleep. They dragged him out and, oh my God! They murdered him, in very cold blood!' She stopped cold and the valve to her tear-store let go freely. Cascading tears pervaded every particle of the emotional pause.</p><p style=\"text-align:left\">Segun squeezed his eyes shut as if remembering something. Yes, the dream. Those three men. That man he bore uncanny resemblance to who was hacked down mercilessly. The woman heavy with pregnancy. Every detail streamed up his memory. Then, they were obscure, even to his pastor. But now, the pictures came out crystal clear.</p><p style=\"text-align:left\">'The dream!'</p>...... <em>[remaining content not displayed]</em></td><td>0.31883724444134565</td></tr></table>"
      ],
      "text/plain": [
       "<IPython.core.display.HTML object>"
      ]
     },
     "metadata": {},
     "output_type": "display_data"
    }
   ],
   "source": [
    "res_table = []\n",
    "for res in results:\n",
    "    book_id, book_title, text_id, text, sim = res\n",
    "    res_table.append([book_id, book_title, text_id, decorate_text(text), 1.0 - sim])\n",
    "    \n",
    "display_table(res_table, header=[\"Book ID\", \"Book Title\", \"Paragraph ID\", \"Paragraph Text\", \"Similarity\"])"
   ]
  },
  {
   "cell_type": "markdown",
   "metadata": {},
   "source": [
    "### Query Type 3: Search for similar book titles"
   ]
  },
  {
   "cell_type": "markdown",
   "metadata": {},
   "source": [
    "For each book, we identify the paragraph most similar to the query_text. The similarity score of this paragraph is used as the representative distance for the entire book. Books are then ranked based on these similarity scores."
   ]
  },
  {
   "cell_type": "code",
   "execution_count": 16,
   "metadata": {},
   "outputs": [
    {
     "name": "stdout",
     "output_type": "stream",
     "text": [
      "Query time: 0.030543088912963867 milli seconds\n"
     ]
    }
   ],
   "source": [
    "start_time = time.time()\n",
    "results = demo.query_for_book_title(query_text, topk)\n",
    "total_time = time.time() - start_time\n",
    "print(\"Query time:\", total_time, \"milli seconds\")"
   ]
  },
  {
   "cell_type": "code",
   "execution_count": 17,
   "metadata": {},
   "outputs": [
    {
     "data": {
      "text/html": [
       "<table><tr><td><b>Book ID</b></td><td><b>Book Title</b></td><td><b>Similarity</b></td></tr><tr><td>6</td><td>The dogs may bark but the caravan moves on the spirit realm </td><td>0.3874507114232435</td></tr><tr><td>5</td><td>Satan the sworn enemy of mankind</td><td>0.34251680031518994</td></tr><tr><td>7</td><td>3 book romance bundle loving the bull rider cowboy down unde</td><td>0.32269211546731746</td></tr><tr><td>0</td><td>More haste the marital trials of brother segun</td><td>0.31883724444134565</td></tr><tr><td>1</td><td>The amulet custodian novel 1</td><td>0.3046301007270835</td></tr><tr><td>4</td><td>Gateway to heaven</td><td>0.2997284799571468</td></tr><tr><td>3</td><td>The units</td><td>0.24236312508583246</td></tr><tr><td>2</td><td>100 seconds to midnight</td><td>0.2079512426795056</td></tr><tr><td>8</td><td>The arab states and the palestine conflict</td><td>0.13372031547306307</td></tr></table>"
      ],
      "text/plain": [
       "<IPython.core.display.HTML object>"
      ]
     },
     "metadata": {},
     "output_type": "display_data"
    }
   ],
   "source": [
    "res_table = []\n",
    "for res in results:\n",
    "    book_id, book_title, similarity = res\n",
    "    res_table.append([book_id, book_title, 1.0 - similarity])\n",
    "    \n",
    "display_table(res_table, [\"Book ID\", \"Book Title\", \"Similarity\"])"
   ]
  },
  {
   "cell_type": "code",
   "execution_count": null,
   "metadata": {},
   "outputs": [],
   "source": []
  }
 ],
 "metadata": {
  "kernelspec": {
   "display_name": "RooVenv",
   "language": "python",
   "name": "roovenv"
  },
  "language_info": {
   "codemirror_mode": {
    "name": "ipython",
    "version": 3
   },
   "file_extension": ".py",
   "mimetype": "text/x-python",
   "name": "python",
   "nbconvert_exporter": "python",
   "pygments_lexer": "ipython3",
   "version": "3.13.5"
  }
 },
 "nbformat": 4,
 "nbformat_minor": 4
}
